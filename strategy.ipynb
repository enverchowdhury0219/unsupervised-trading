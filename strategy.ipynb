{
 "cells": [
  {
   "cell_type": "code",
   "execution_count": null,
   "id": "5c78e736",
   "metadata": {},
   "outputs": [],
   "source": [
    "#downloading the required packages\n",
    "%pip install pandas\n",
    "%pip install pandas_ta\n",
    "%pip install numpy\n",
    "%pip install matplotlib\n",
    "%pip install statsmodels\n",
    "%pip install pandas_datareader\n",
    "%pip install datetime\n",
    "%pip install yfinance\n",
    "%pip install sklearn\n",
    "%pip install PyPortfolioOpt"
   ]
  },
  {
   "cell_type": "code",
   "execution_count": 3,
   "id": "608ce03a",
   "metadata": {},
   "outputs": [
    {
     "data": {
      "text/plain": [
       "[    Symbol             Security  ...      CIK      Founded\n",
       " 0      MMM                   3M  ...    66740         1902\n",
       " 1      AOS          A. O. Smith  ...    91142         1916\n",
       " 2      ABT  Abbott Laboratories  ...     1800         1888\n",
       " 3     ABBV               AbbVie  ...  1551152  2013 (1888)\n",
       " 4      ACN            Accenture  ...  1467373         1989\n",
       " ..     ...                  ...  ...      ...          ...\n",
       " 498    XYL           Xylem Inc.  ...  1524472         2011\n",
       " 499    YUM          Yum! Brands  ...  1041061         1997\n",
       " 500   ZBRA   Zebra Technologies  ...   877212         1969\n",
       " 501    ZBH        Zimmer Biomet  ...  1136869         1927\n",
       " 502    ZTS               Zoetis  ...  1555280         1952\n",
       " \n",
       " [503 rows x 8 columns],\n",
       "                    Date  ...                                             Reason\n",
       "                    Date  ...                                             Reason\n",
       " 0         July 23, 2025  ...  S&P 500 and S&P 100 constituent Chevron Corp. ...\n",
       " 1         July 18, 2025  ...  S&P 500 constituent Synopsys Inc. acquired Ans...\n",
       " 2          July 9, 2025  ...  S&P 500 constituent Hewlett Packard Enterprise...\n",
       " 3          May 19, 2025  ...  S&P 500 constituent Capital One Financial Corp...\n",
       " 4        March 24, 2025  ...                   Market capitalization change.[8]\n",
       " ..                  ...  ...                                                ...\n",
       " 370   December 11, 1998  ...                     AIG purchased SunAmerica.[265]\n",
       " 371       June 17, 1997  ...                          AIG acquired USLife.[266]\n",
       " 372  September 30, 1994  ...  McKesson sold PCS Health Services to Eli Lilly...\n",
       " 373        July 1, 1976  ...  Major restructuring of S&P 500 to have fewer i...\n",
       " 374        July 1, 1976  ...  Major restructuring of S&P 500 to have fewer i...\n",
       " \n",
       " [375 rows x 6 columns]]"
      ]
     },
     "execution_count": 3,
     "metadata": {},
     "output_type": "execute_result"
    }
   ],
   "source": [
    "from statsmodels.regression.rolling import RollingOLS\n",
    "import pandas_datareader.data as web\n",
    "import matplotlib.pyplot as plt\n",
    "import statsmodels.api as sm\n",
    "import pandas as pd\n",
    "import numpy as np\n",
    "import yfinance as yf\n",
    "import pandas_ta\n",
    "import warnings\n",
    "warnings.filterwarnings('ignore')\n",
    "\n",
    "\n",
    "pd.read_html('https://en.wikipedia.org/wiki/List_of_S%26P_500_companies')\n"
   ]
  },
  {
   "cell_type": "code",
   "execution_count": null,
   "id": "e4a89d51",
   "metadata": {},
   "outputs": [],
   "source": []
  }
 ],
 "metadata": {
  "kernelspec": {
   "display_name": "base",
   "language": "python",
   "name": "python3"
  },
  "language_info": {
   "codemirror_mode": {
    "name": "ipython",
    "version": 3
   },
   "file_extension": ".py",
   "mimetype": "text/x-python",
   "name": "python",
   "nbconvert_exporter": "python",
   "pygments_lexer": "ipython3",
   "version": "3.12.7"
  }
 },
 "nbformat": 4,
 "nbformat_minor": 5
}
